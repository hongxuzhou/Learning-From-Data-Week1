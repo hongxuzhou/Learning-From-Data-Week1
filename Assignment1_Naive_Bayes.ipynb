{
 "cells": [
  {
   "cell_type": "markdown",
   "metadata": {},
   "source": [
    "# Naive Bayes"
   ]
  },
  {
   "cell_type": "markdown",
   "metadata": {},
   "source": [
    "## Roadmap  \n",
    "1. Data preparation \n",
    "   * Import and split the corpus\n",
    "   * Have a look of the corpus\n",
    "   * Save the training/validating/testing sets\n",
    "2. Algorism training\n",
    "   * Import the algorism\n",
    "   * Load the data\n",
    "   * Make predictions\n",
    "3. Evaluation"
   ]
  },
  {
   "cell_type": "markdown",
   "metadata": {},
   "source": [
    "## 1.Data preparation  \n",
    "I skipped `argparse` and `os` at the moment"
   ]
  },
  {
   "cell_type": "code",
   "execution_count": 4,
   "metadata": {},
   "outputs": [],
   "source": [
    "# Import libraries\n",
    "import numpy as np\n",
    "import pandas as pd\n",
    "import matplotlib.pyplot as plt \n",
    "\n",
    "from sklearn.feature_extraction.text import CountVectorizer, TfidfVectorizer\n",
    "from sklearn.naive_bayes import MultinomialNB\n",
    "from sklearn.pipeline import Pipeline\n",
    "from sklearn.metrics import accuracy_score"
   ]
  },
  {
   "cell_type": "markdown",
   "metadata": {},
   "source": [
    "## Import the corpus"
   ]
  },
  {
   "cell_type": "markdown",
   "metadata": {},
   "source": [
    "Three steps: 1. load the corpus, 2. take a peek of the corpora (head & tail, most and least frequent words), 3. split the corpus in three."
   ]
  },
  {
   "cell_type": "code",
   "execution_count": 7,
   "metadata": {},
   "outputs": [],
   "source": [
    "def read_corpus(corpus_file):\n",
    "    data = []\n",
    "    with open(corpus_file, encoding='utf+8') as in_file:\n",
    "        for line in in_file:\n",
    "            parts = line.strip().split(' ', 3) #the corpus data follows the format of catrgory-sentiment-ID-text, so I split each line into 4\n",
    "            \n",
    "            if len(parts) == 4: #check if all 4 parts are complete\n",
    "                \n",
    "                category, sentiment, id_, text = parts #hope this would work, I'm lost a bit here\n",
    "                \n",
    "                #data tagging\n",
    "                data.append({\n",
    "                    'category' : category,\n",
    "                    'sentiment' : sentiment,\n",
    "                    'id_' : id_,\n",
    "                    'text' : text \n",
    "                })\n",
    "    return pd.DataFrame(data)"
   ]
  },
  {
   "cell_type": "markdown",
   "metadata": {},
   "source": [
    "Next step is to analyse the data"
   ]
  },
  {
   "cell_type": "code",
   "execution_count": 17,
   "metadata": {},
   "outputs": [],
   "source": [
    "def corpus_overview(df, n = 10):\n",
    "    '''\n",
    "    Take a high level overview of the dataset\n",
    "    '''\n",
    "    print(f'total number of reviews: {len(df)}')\n",
    "    print(f'number of categories: ' + {df['category'].nunique()})\n",
    "    print(f'number of sentiments:' + {df['sentiment'].nunique()})\n",
    "    \n",
    "    print('\\n2. first few lines:')\n",
    "    print(df.head(n))\n",
    "    \n",
    "    print(\"\\n3. final lines:\")\n",
    "    print(df.tail(n))\n",
    "    \n",
    "    print(\"\\n4. categorical distribution:\")\n",
    "    cat_dist = df['category'].value_counts()\n",
    "    print(cat_dist)\n",
    "    '''\n",
    "    consider adding the most common and the lest words and sentiment distribution\n",
    "    '''"
   ]
  },
  {
   "cell_type": "code",
   "execution_count": 10,
   "metadata": {},
   "outputs": [],
   "source": [
    "#Try loading the corpus\n",
    "corpus_file = '/Users/hongxuzhou/LfD/Week1/reviews-LfD.txt'\n",
    "df = read_corpus(corpus_file)"
   ]
  },
  {
   "cell_type": "markdown",
   "metadata": {},
   "source": [
    "## Corpus overview"
   ]
  },
  {
   "cell_type": "code",
   "execution_count": 15,
   "metadata": {},
   "outputs": [
    {
     "name": "stdout",
     "output_type": "stream",
     "text": [
      "<bound method NDFrame.head of      category sentiment      id_  \\\n",
      "0       music       neg  575.txt   \n",
      "1         dvd       neg  391.txt   \n",
      "2      health       neg  848.txt   \n",
      "3      camera       pos  577.txt   \n",
      "4         dvd       neg  400.txt   \n",
      "...       ...       ...      ...   \n",
      "5995   health       neg  309.txt   \n",
      "5996   health       pos  101.txt   \n",
      "5997    music       pos  671.txt   \n",
      "5998      dvd       neg  235.txt   \n",
      "5999   camera       neg   96.txt   \n",
      "\n",
      "                                                   text  \n",
      "0     the cd came as promised and in the condition p...  \n",
      "1     this was a very annoying and boring flick that...  \n",
      "2     the braun ls-5550 silk&soft bodyshave recharge...  \n",
      "3     when it comes to buying camcorders , i persona...  \n",
      "4     i had high hopes for this series when i starte...  \n",
      "...                                                 ...  \n",
      "5995  i like the idea , but the slippers just are n'...  \n",
      "5996  i eat one of these twice a week before i play ...  \n",
      "5997  i get the sense that the fleetwoods'body of re...  \n",
      "5998  if i 'm not mistaken , the only difference bet...  \n",
      "5999  i agree with m. arse with the 2star rating . i...  \n",
      "\n",
      "[6000 rows x 4 columns]>\n"
     ]
    }
   ],
   "source": [
    "print(df.head)"
   ]
  },
  {
   "cell_type": "code",
   "execution_count": 16,
   "metadata": {},
   "outputs": [
    {
     "name": "stdout",
     "output_type": "stream",
     "text": [
      "total number of reviews: 6000\n",
      "\n",
      "2. first few lines:\n",
      "   category sentiment      id_  \\\n",
      "0     music       neg  575.txt   \n",
      "1       dvd       neg  391.txt   \n",
      "2    health       neg  848.txt   \n",
      "3    camera       pos  577.txt   \n",
      "4       dvd       neg  400.txt   \n",
      "5  software       neg   40.txt   \n",
      "6  software       pos  856.txt   \n",
      "7    health       pos  391.txt   \n",
      "8    camera       neg  617.txt   \n",
      "9    health       neg  598.txt   \n",
      "\n",
      "                                                text  \n",
      "0  the cd came as promised and in the condition p...  \n",
      "1  this was a very annoying and boring flick that...  \n",
      "2  the braun ls-5550 silk&soft bodyshave recharge...  \n",
      "3  when it comes to buying camcorders , i persona...  \n",
      "4  i had high hopes for this series when i starte...  \n",
      "5  the program works fine on windows xp and is ea...  \n",
      "6  so i did the unthinkable . i put windows vista...  \n",
      "7  i bought one of these ' gizmos ' as a gift 3 y...  \n",
      "8  i thought i was upgrading from analog to digit...  \n",
      "9  i did n't realize there was hfcs ( high fructo...  \n",
      "\n",
      "3. final lines:\n",
      "     category sentiment      id_  \\\n",
      "5990    music       pos   22.txt   \n",
      "5991   health       neg  111.txt   \n",
      "5992    music       neg  166.txt   \n",
      "5993   camera       neg  959.txt   \n",
      "5994    music       pos  872.txt   \n",
      "5995   health       neg  309.txt   \n",
      "5996   health       pos  101.txt   \n",
      "5997    music       pos  671.txt   \n",
      "5998      dvd       neg  235.txt   \n",
      "5999   camera       neg   96.txt   \n",
      "\n",
      "                                                   text  \n",
      "5990  this cd is really really good . warped tour ne...  \n",
      "5991  oprah winfrey and kevin costner the leading me...  \n",
      "5992  judas preist 's 1974 debut album . this is sim...  \n",
      "5993  i spend hours pouring over reviews trying to d...  \n",
      "5994  imagine yourself sitting in a bistro on the ch...  \n",
      "5995  i like the idea , but the slippers just are n'...  \n",
      "5996  i eat one of these twice a week before i play ...  \n",
      "5997  i get the sense that the fleetwoods'body of re...  \n",
      "5998  if i 'm not mistaken , the only difference bet...  \n",
      "5999  i agree with m. arse with the 2star rating . i...  \n",
      "\n",
      "4. categorical distribution:\n",
      "category\n",
      "music       1027\n",
      "dvd         1012\n",
      "software     994\n",
      "books        993\n",
      "camera       988\n",
      "health       986\n",
      "Name: count, dtype: int64\n"
     ]
    }
   ],
   "source": [
    "corpus_overview(df)"
   ]
  },
  {
   "cell_type": "markdown",
   "metadata": {},
   "source": [
    "## Split the corpus  \n",
    "The corpus is tagged and re-ordered, so stratified sampling will be used when splitting the corpus in training, validating and testing sets"
   ]
  },
  {
   "cell_type": "code",
   "execution_count": 21,
   "metadata": {},
   "outputs": [
    {
     "name": "stdout",
     "output_type": "stream",
     "text": [
      "\n",
      "Training set:\n",
      "Total samples: 4199\n",
      "Sentiment distribution:\n",
      "sentiment\n",
      "neg    0.505358\n",
      "pos    0.494642\n",
      "Name: proportion, dtype: float64\n",
      "Category distribution:\n",
      "category\n",
      "music       0.175042\n",
      "books       0.170279\n",
      "software    0.165039\n",
      "dvd         0.164325\n",
      "camera      0.163134\n",
      "health      0.162181\n",
      "Name: proportion, dtype: float64\n",
      "\n",
      "Validation set:\n",
      "Total samples: 901\n",
      "Sentiment distribution:\n",
      "sentiment\n",
      "neg    0.504994\n",
      "pos    0.495006\n",
      "Name: proportion, dtype: float64\n",
      "Category distribution:\n",
      "category\n",
      "health      0.192009\n",
      "dvd         0.168701\n",
      "software    0.166482\n",
      "camera      0.166482\n",
      "music       0.157603\n",
      "books       0.148724\n",
      "Name: proportion, dtype: float64\n",
      "\n",
      "Test set:\n",
      "Total samples: 900\n",
      "Sentiment distribution:\n",
      "sentiment\n",
      "neg    0.505556\n",
      "pos    0.494444\n",
      "Name: proportion, dtype: float64\n",
      "Category distribution:\n",
      "category\n",
      "dvd         0.188889\n",
      "camera      0.170000\n",
      "software    0.167778\n",
      "music       0.166667\n",
      "books       0.160000\n",
      "health      0.146667\n",
      "Name: proportion, dtype: float64\n"
     ]
    },
    {
     "data": {
      "image/png": "[encoded data removed]",
      "text/plain": [
       "<Figure size 1500x500 with 3 Axes>"
      ]
     },
     "metadata": {},
     "output_type": "display_data"
    },
    {
     "data": {
      "image/png": "[encoded data removed]",
      "text/plain": [
       "<Figure size 1500x500 with 3 Axes>"
      ]
     },
     "metadata": {},
     "output_type": "display_data"
    }
   ],
   "source": [
    "#I resorted to ChatGPT when doing this part, extra careful!!!\n",
    "from sklearn.model_selection import train_test_split\n",
    "\n",
    "def split_corpus(df, train_size=0.7, val_size=0.15, test_size=0.15, stratify_col='sentiment'):\n",
    "    # First, split off the test set\n",
    "    train_val, test = train_test_split(df, test_size=test_size, stratify=df[stratify_col], random_state=42)\n",
    "    \n",
    "    # Then, split the remaining data into train and validation sets\n",
    "    relative_val_size = val_size / (train_size + val_size)\n",
    "    train, val = train_test_split(train_val, test_size=relative_val_size, stratify=train_val[stratify_col], random_state=42)\n",
    "    \n",
    "    return train, val, test\n",
    "\n",
    "def analyze_split(df, name):\n",
    "    print(f\"\\n{name} set:\")\n",
    "    print(f\"Total samples: {len(df)}\")\n",
    "    print(\"Sentiment distribution:\")\n",
    "    print(df['sentiment'].value_counts(normalize=True))\n",
    "    print(\"Category distribution:\")\n",
    "    print(df['category'].value_counts(normalize=True))\n",
    "\n",
    "# Load the corpus\n",
    "#corpus_file = 'path/to/your/corpus.txt'  # Replace with your actual file path\n",
    "#df = read_corpus(corpus_file)\n",
    "\n",
    "# Split the corpus\n",
    "train, val, test = split_corpus(df)\n",
    "\n",
    "# Analyze each split\n",
    "for name, split in [(\"Training\", train), (\"Validation\", val), (\"Test\", test)]:\n",
    "    analyze_split(split, name)\n",
    "\n",
    "# Visualize sentiment distribution in each split\n",
    "plt.figure(figsize=(15, 5))\n",
    "\n",
    "splits = [train, val, test]\n",
    "names = ['Train', 'Validation', 'Test']\n",
    "\n",
    "for i, (split, name) in enumerate(zip(splits, names)):\n",
    "    plt.subplot(1, 3, i+1)\n",
    "    split['sentiment'].value_counts(normalize=True).plot(kind='bar')\n",
    "    plt.title(f'{name} Set Sentiment Distribution')\n",
    "    plt.ylabel('Proportion')\n",
    "    plt.ylim(0, 1)\n",
    "\n",
    "plt.tight_layout()\n",
    "plt.show()\n",
    "\n",
    "# Visualize topic distribution in each split\n",
    "plt.figure(figsize=(15, 5))\n",
    "\n",
    "for i, (split, name) in enumerate(zip(splits, names)):\n",
    "    plt.subplot(1, 3, i+1)\n",
    "    split['category'].value_counts(normalize=True).plot(kind='bar')\n",
    "    plt.title(f'{name} Set Category Distribution')\n",
    "    plt.ylabel('Proportion')\n",
    "    plt.ylim(0, 1)\n",
    "\n",
    "plt.tight_layout()\n",
    "plt.show()\n",
    "\n",
    "'''\n",
    "I got the meaning of this code, but it's quite challenging for me to write it from scratch\n",
    "'''\n"
   ]
  }
 ],
 "metadata": {
  "kernelspec": {
   "display_name": "base",
   "language": "python",
   "name": "python3"
  },
  "language_info": {
   "codemirror_mode": {
    "name": "ipython",
    "version": 3
   },
   "file_extension": ".py",
   "mimetype": "text/x-python",
   "name": "python",
   "nbconvert_exporter": "python",
   "pygments_lexer": "ipython3",
   "version": "3.10.14"
  }
 },
 "nbformat": 4,
 "nbformat_minor": 2
}
