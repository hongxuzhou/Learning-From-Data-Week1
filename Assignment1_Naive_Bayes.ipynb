{
 "cells": [
  {
   "cell_type": "markdown",
   "metadata": {},
   "source": [
    "# Naive Bayes"
   ]
  },
  {
   "cell_type": "markdown",
   "metadata": {},
   "source": [
    "## Roadmap  \n",
    "1. Data preparation \n",
    "   * Import and split the corpus\n",
    "   * Have a look of the corpus\n",
    "   * Save the training/validating/testing sets\n",
    "2. Algorism training\n",
    "   * Import the algorism\n",
    "   * Load the data\n",
    "   * Make predictions\n",
    "3. Evaluation"
   ]
  },
  {
   "cell_type": "markdown",
   "metadata": {},
   "source": [
    "## 1.Data preparation  \n",
    "I skipped `argparse` and `os` at the moment"
   ]
  },
  {
   "cell_type": "code",
   "execution_count": 24,
   "metadata": {},
   "outputs": [],
   "source": [
    "# Import libraries\n",
    "import numpy as np\n",
    "import pandas as pd\n",
    "import matplotlib.pyplot as plt \n",
    "\n",
    "from sklearn.feature_extraction.text import CountVectorizer, TfidfVectorizer\n",
    "from sklearn.naive_bayes import MultinomialNB\n",
    "from sklearn.pipeline import Pipeline\n",
    "from sklearn.metrics import accuracy_score"
   ]
  },
  {
   "cell_type": "markdown",
   "metadata": {},
   "source": [
    "## Import the corpus"
   ]
  },
  {
   "cell_type": "markdown",
   "metadata": {},
   "source": [
    "Three steps: 1. load the corpus, 2. take a peek of the corpora (head & tail, most and least frequent words), 3. split the corpus in three."
   ]
  },
  {
   "cell_type": "code",
   "execution_count": 25,
   "metadata": {},
   "outputs": [],
   "source": [
    "#Try loading the corpus\n",
    "corpus_file = '/Users/hongxuzhou/LfD/Week1/reviews-LfD.txt'\n",
    "df = read_corpus(corpus_file)"
   ]
  },
  {
   "cell_type": "code",
   "execution_count": 27,
   "metadata": {},
   "outputs": [],
   "source": [
    "def read_corpus(corpus_file):\n",
    "    data = []\n",
    "    with open(corpus_file, encoding='utf+8') as in_file:\n",
    "        for line in in_file:\n",
    "            parts = line.strip().split(' ', 3) #the corpus data follows the format of catrgory-sentiment-ID-text, so I split each line into 4\n",
    "            \n",
    "            if len(parts) == 4: #check if all 4 parts are complete\n",
    "                \n",
    "                category, sentiment, id_, text = parts #hope this would work, I'm lost a bit here\n",
    "                \n",
    "                #data tagging\n",
    "                data.append({\n",
    "                    'category' : category,\n",
    "                    'sentiment' : sentiment,\n",
    "                    'id_' : id_,\n",
    "                    'text' : text \n",
    "                })\n",
    "    return pd.DataFrame(data)"
   ]
  },
  {
   "cell_type": "markdown",
   "metadata": {},
   "source": [
    "Next step is to analyse the data"
   ]
  },
  {
   "cell_type": "code",
   "execution_count": 29,
   "metadata": {},
   "outputs": [],
   "source": [
    "def corpus_overview(df, n = 10):\n",
    "    '''\n",
    "    Take a high level overview of the dataset\n",
    "    '''\n",
    "    print(f'total number of reviews: ' + {len(df)})\n",
    "    print(f'number of categories: ' + {df['category'].nunique()})\n",
    "    print(f'number of sentiments:' + {df['sentiment'].nunique()})\n",
    "    \n",
    "    print('\\n2. first few lines:')\n",
    "    print(df.head(n))\n",
    "    \n",
    "    print(\"\\n3. final lines:\")\n",
    "    print(df.tail(n))\n",
    "    \n",
    "    print(\"\\n4. categorical distribution:\")\n",
    "    cat_dist = df['category'].value_counts()\n",
    "    print(cat_dist)\n",
    "    '''\n",
    "    consider adding the most common and the lest words and sentiment distribution\n",
    "    '''"
   ]
  },
  {
   "cell_type": "markdown",
   "metadata": {},
   "source": []
  }
 ],
 "metadata": {
  "kernelspec": {
   "display_name": "base",
   "language": "python",
   "name": "python3"
  },
  "language_info": {
   "codemirror_mode": {
    "name": "ipython",
    "version": 3
   },
   "file_extension": ".py",
   "mimetype": "text/x-python",
   "name": "python",
   "nbconvert_exporter": "python",
   "pygments_lexer": "ipython3",
   "version": "3.10.14"
  }
 },
 "nbformat": 4,
 "nbformat_minor": 2
}
