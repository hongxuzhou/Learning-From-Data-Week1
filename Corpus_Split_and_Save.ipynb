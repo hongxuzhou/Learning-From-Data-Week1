{
 "cells": [
  {
   "cell_type": "markdown",
   "metadata": {},
   "source": [
    "# Splitting and Saving the Corpus"
   ]
  },
  {
   "cell_type": "markdown",
   "metadata": {},
   "source": [
    "This notebook is planed to be converted to `py` script afterwards.  \n",
    "It includes two functions:  \n",
    "1. Splitting the corpus into 3: training, validating and testing\n",
    "2. Save the datasets to CSV files"
   ]
  },
  {
   "cell_type": "code",
   "execution_count": null,
   "metadata": {},
   "outputs": [],
   "source": [
    "# Import libraries\n",
    "import os\n",
    "\n",
    "import numpy as np\n",
    "import pandas as pd \n",
    "\n",
    "from sklearn.feature_extraction.text import CountVectorizer, TfidfVectorizer\n",
    "from sklearn.naive_bayes import MultinomialNB\n",
    "from sklearn.pipeline import Pipeline\n",
    "from sklearn.metrics import accuracy_score"
   ]
  },
  {
   "cell_type": "markdown",
   "metadata": {},
   "source": [
    "## Import the corpus"
   ]
  },
  {
   "cell_type": "markdown",
   "metadata": {},
   "source": [
    "Three steps: 1. load the corpus, 2. take a peek of the corpora (head & tail, most and least frequent words), 3. split the corpus in three."
   ]
  },
  {
   "cell_type": "code",
   "execution_count": null,
   "metadata": {},
   "outputs": [],
   "source": [
    "def read_corpus(corpus_file):\n",
    "    data = []\n",
    "    with open(corpus_file, encoding='utf+8') as in_file:\n",
    "        for line in in_file:\n",
    "            parts = line.strip().split(' ', 3) #the corpus data follows the format of catrgory-sentiment-ID-text, so I split each line into 4\n",
    "            \n",
    "            if len(parts) == 4: #check if all 4 parts are complete\n",
    "                \n",
    "                category, sentiment, id_, text = parts #hope this would work, I'm lost a bit here\n",
    "                \n",
    "                #data tagging\n",
    "                data.append({\n",
    "                    'category' : category,\n",
    "                    'sentiment' : sentiment,\n",
    "                    'id_' : id_,\n",
    "                    'text' : text \n",
    "                })\n",
    "    return pd.DataFrame(data)"
   ]
  },
  {
   "cell_type": "code",
   "execution_count": null,
   "metadata": {},
   "outputs": [],
   "source": [
    "#Try loading the corpus\n",
    "corpus_file = '/Users/hongxuzhou/LfD/Week1/reviews-LfD.txt' #Dont't forget to change the path"
   ]
  },
  {
   "cell_type": "code",
   "execution_count": null,
   "metadata": {},
   "outputs": [],
   "source": [
    "df = read_corpus(corpus_file)\n",
    "print(df)"
   ]
  },
  {
   "cell_type": "markdown",
   "metadata": {},
   "source": [
    "## Split the corpus  \n",
    "The corpus is tagged and re-ordered, so stratified sampling will be used when splitting the corpus in training, validating and testing sets"
   ]
  },
  {
   "cell_type": "code",
   "execution_count": null,
   "metadata": {},
   "outputs": [],
   "source": [
    "#I resorted to ChatGPT when doing this part, extra careful!!!\n",
    "from sklearn.model_selection import train_test_split\n",
    "\n",
    "def split_corpus(df, train_size=0.7, val_size=0.15, test_size=0.15, stratify_col='sentiment'):\n",
    "    # First, split off the test set\n",
    "    train_val, test = train_test_split(df, test_size=test_size, stratify=df[stratify_col], random_state=42)\n",
    "    \n",
    "    # Then, split the remaining data into train and validation sets\n",
    "    relative_val_size = val_size / (train_size + val_size) #The total amount of the data has changed after the 1st split, so the ratio needs to be recalculated\n",
    "    train, val = train_test_split(train_val, test_size=relative_val_size, stratify=train_val[stratify_col], random_state=42)\n",
    "    \n",
    "    return train, val, test\n"
   ]
  },
  {
   "cell_type": "code",
   "execution_count": 35,
   "metadata": {},
   "outputs": [],
   "source": [
    "# Split the corpus\n",
    "train, val, test = split_corpus(df)"
   ]
  },
  {
   "cell_type": "markdown",
   "metadata": {},
   "source": [
    "## Save the corpus"
   ]
  },
  {
   "cell_type": "code",
   "execution_count": null,
   "metadata": {},
   "outputs": [],
   "source": [
    "def save_datasets(train, val, test, output_dir = 'datasets'):\n",
    "    os.makedirs(output_dir, exist_ok=True) #if the output dir doesn't exist, create one\n",
    "    train.to_csv(os.path.join(output_dir, 'tain.csv'), index = False)\n",
    "    val.to_csv(os.path.join(output_dir, 'val.csv'), index = False)\n",
    "    test.to_csv(os.path.join(output_dir, 'test.csv'), index = False)\n",
    "    \n",
    "    print(f\"Datasets saved in {output_dir} dir.\")\n",
    "    "
   ]
  },
  {
   "cell_type": "code",
   "execution_count": 39,
   "metadata": {},
   "outputs": [
    {
     "name": "stdout",
     "output_type": "stream",
     "text": [
      "Datasets saved in datasets dir.\n"
     ]
    }
   ],
   "source": [
    "save_datasets(train, val, test)"
   ]
  }
 ],
 "metadata": {
  "kernelspec": {
   "display_name": "base",
   "language": "python",
   "name": "python3"
  },
  "language_info": {
   "codemirror_mode": {
    "name": "ipython",
    "version": 3
   },
   "file_extension": ".py",
   "mimetype": "text/x-python",
   "name": "python",
   "nbconvert_exporter": "python",
   "pygments_lexer": "ipython3",
   "version": "3.11.0"
  }
 },
 "nbformat": 4,
 "nbformat_minor": 2
}
